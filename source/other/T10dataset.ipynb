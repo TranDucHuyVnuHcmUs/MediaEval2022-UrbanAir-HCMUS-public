{
 "cells": [
  {
   "cell_type": "code",
   "execution_count": null,
   "metadata": {},
   "outputs": [],
   "source": [
    "import numpy as np\n",
    "from tqdm import tqdm\n",
    "import pandas as pd\n",
    "import glob\n",
    "import os\n",
    "import matplotlib\n",
    "import sortednp\n",
    "import datetime\n",
    "import json\n",
    "from operator import itemgetter\n",
    "import timeit"
   ]
  },
  {
   "cell_type": "code",
   "execution_count": null,
   "metadata": {},
   "outputs": [],
   "source": [
    "path = r\"../../data/others/T10I4D200K/T10I4D200K.txt\"\n",
    "db_strs = []\n",
    "with open(path, 'r') as f:\n",
    "    db_strs = f.readlines()\n",
    "db_strs[1]"
   ]
  },
  {
   "cell_type": "code",
   "execution_count": null,
   "metadata": {},
   "outputs": [],
   "source": [
    "item_dict = { 'Time': True }         # for checking if a key already exist.\n",
    "transactions = []\n",
    "\n",
    "for str in db_strs:\n",
    "    tokens = str.split(\" \")\n",
    "    time = int(tokens[0])\n",
    "\n",
    "    transaction = [ time, [] ]\n",
    "    tokens = tokens[1:]\n",
    "    for tkn in tokens:\n",
    "        if (tkn == '') or (tkn == '\\n'): continue\n",
    "        key, prob = tkn.split(\"(\")\n",
    "        while (key[0] == \" \"): key.removeprefix(\" \")\n",
    "        #key = int(key)\n",
    "        while (prob[-1] == \" \"): prob.removesuffix(\" \")\n",
    "        prob = prob.removesuffix(\")\")\n",
    "        prob = float(prob)\n",
    "        if key not in item_dict:\n",
    "            item_dict[key] = True           # just a quick value\n",
    "        transaction[1].append( [key, prob] )\n",
    "    transactions.append(transaction)"
   ]
  },
  {
   "cell_type": "code",
   "execution_count": null,
   "metadata": {},
   "outputs": [],
   "source": [
    "keys = sorted(item_dict.keys())\n",
    "keys.remove('Time')\n",
    "keys = ['Time'] + keys\n",
    "\n",
    "df = pd.DataFrame(columns = keys)\n",
    "print(df.shape)\n",
    "columns = df.columns.to_list()\n",
    "# print(columns)\n",
    "\n",
    "# get index of each column name\n",
    "column_indexes = { }\n",
    "for i in range(len(columns)):\n",
    "    column_indexes[ columns[i] ] = i\n",
    "\n",
    "# print(column_indexes)"
   ]
  },
  {
   "cell_type": "code",
   "execution_count": null,
   "metadata": {},
   "outputs": [],
   "source": [
    "listrows = np.zeros((len(transactions), df.shape[1]))\n",
    "for i in range(len(transactions)):\n",
    "    t = transactions[i]\n",
    "    listrows[i][0] = i\n",
    "    for it in t[1]:\n",
    "        listrows[i][ column_indexes[it[0]] ] = it[1]"
   ]
  },
  {
   "cell_type": "code",
   "execution_count": null,
   "metadata": {},
   "outputs": [],
   "source": [
    "df = pd.DataFrame(listrows, columns = keys)\n",
    "print(df.shape)\n",
    "columns = df.columns.to_list()\n",
    "# print(columns)"
   ]
  },
  {
   "cell_type": "code",
   "execution_count": null,
   "metadata": {},
   "outputs": [],
   "source": [
    "df.to_csv(r\"../../data/others/T10I4D200K/T10I4D200K.csv\", index=False)"
   ]
  }
 ],
 "metadata": {
  "kernelspec": {
   "display_name": "Python 3.10.6 ('study')",
   "language": "python",
   "name": "python3"
  },
  "language_info": {
   "codemirror_mode": {
    "name": "ipython",
    "version": 3
   },
   "file_extension": ".py",
   "mimetype": "text/x-python",
   "name": "python",
   "nbconvert_exporter": "python",
   "pygments_lexer": "ipython3",
   "version": "3.10.6"
  },
  "orig_nbformat": 4,
  "vscode": {
   "interpreter": {
    "hash": "eb3de00e07e345391905e8474aaa8d141fe6b310547503c17a51563c220f85dd"
   }
  }
 },
 "nbformat": 4,
 "nbformat_minor": 2
}
