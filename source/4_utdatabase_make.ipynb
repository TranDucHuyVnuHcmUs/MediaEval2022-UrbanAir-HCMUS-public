{
 "cells": [
  {
   "cell_type": "markdown",
   "metadata": {},
   "source": [
    "# Convert into uncertain temporal pattern"
   ]
  },
  {
   "cell_type": "markdown",
   "metadata": {},
   "source": [
    "Prerequiste: Run aqinew.ipynb or label the AQI index values first."
   ]
  },
  {
   "cell_type": "code",
   "execution_count": null,
   "metadata": {},
   "outputs": [],
   "source": [
    "from pytorch_tabnet.tab_model import TabNetClassifier, TabNetRegressor\n",
    "import numpy as np\n",
    "from tqdm import tqdm\n",
    "import pandas as pd\n",
    "import glob\n",
    "import os\n",
    "import matplotlib.pyplot as plt"
   ]
  },
  {
   "cell_type": "code",
   "execution_count": null,
   "metadata": {},
   "outputs": [],
   "source": [
    "pollutants = ['PM2.5','PM10','CO','NO2','SO2','O3']\n",
    "aqi_columns = ['AQI_O3','AQI_NO2', 'AQI_SO2','AQI_CO', 'AQI_PM2.5', 'AQI_PM10']"
   ]
  },
  {
   "cell_type": "markdown",
   "metadata": {},
   "source": [
    "# Read data"
   ]
  },
  {
   "cell_type": "code",
   "execution_count": null,
   "metadata": {},
   "outputs": [],
   "source": [
    "input_path = r\"../data/AQI/20221222_0224/AQI.csv\"\n",
    "label_df = pd.read_csv(input_path)"
   ]
  },
  {
   "cell_type": "markdown",
   "metadata": {},
   "source": [
    "# Preprocess"
   ]
  },
  {
   "cell_type": "code",
   "execution_count": null,
   "metadata": {},
   "outputs": [],
   "source": [
    "kept_columns = ['Datetime', 'SensorCode']\n",
    "label_df.drop(['dt','LatitudeCam','LongtitudeCam','LatitudeSensor','LongtitudeSensor'], inplace=True, axis=1)\n",
    "label_df['Datetime'] = pd.to_datetime(label_df['Datetime'], errors='coerce')"
   ]
  },
  {
   "cell_type": "code",
   "execution_count": null,
   "metadata": {},
   "outputs": [],
   "source": [
    "for col in label_df.columns:\n",
    "    if (col in kept_columns) or ('AQI' in col): continue            # AQI handled differently\n",
    "    maxval = label_df[col].max()\n",
    "    #print(maxval)\n",
    "    label_df[col] = label_df[col].values / maxval"
   ]
  },
  {
   "cell_type": "markdown",
   "metadata": {},
   "source": [
    "## Define fuzzy negation range"
   ]
  },
  {
   "cell_type": "code",
   "execution_count": null,
   "metadata": {},
   "outputs": [],
   "source": [
    "# fuzzy_range_label = { 'LOW': [0.05, 0.2],\n",
    "#                         'MED': [0.2, 0.5],\n",
    "#                         'HIGH': [0.5, 0.7] }\n",
    "fuzzy_range_label = {\n",
    "    'label': ['LOW', 'MODERATE', 'HIGH'],\n",
    "    'normal': [0.1, 0.2, 0.4]\n",
    "}\n",
    "exclude_columns = aqi_columns + kept_columns"
   ]
  },
  {
   "cell_type": "code",
   "execution_count": null,
   "metadata": {},
   "outputs": [],
   "source": [
    "exclude_columns"
   ]
  },
  {
   "cell_type": "markdown",
   "metadata": {},
   "source": [
    "The step below handle all columns."
   ]
  },
  {
   "cell_type": "code",
   "execution_count": null,
   "metadata": {},
   "outputs": [],
   "source": [
    "def fuzzy_convert(row, min, max):\n",
    "    return (row - min) / (max - min)\n",
    "    \n",
    "for col in tqdm(label_df.columns):\n",
    "    if (col in exclude_columns): continue\n",
    "    for l in fuzzy_range_label['label']:\n",
    "        label_col = col + '_' + l\n",
    "        label_df[label_col] = 0\n",
    "    \n",
    "    for i in tqdm(range(1, len(fuzzy_range_label['label']))):\n",
    "        l2, l1 = fuzzy_range_label['label'][i], fuzzy_range_label['label'][i-1]\n",
    "        vmax, vmin = fuzzy_range_label['normal'][i], fuzzy_range_label['normal'][i-1]\n",
    "        condition = (label_df[col] >= vmin) & (label_df[col] <= vmax)\n",
    "        lc1, lc2 = col + '_' + l1, col + '_' + l2\n",
    "        label_df[lc2][ condition ] = label_df[col][condition].apply(fuzzy_convert, args=(vmin, vmax))\n",
    "        label_df[lc1][ condition ] = 1 - label_df[lc2][condition]\n",
    "    \n",
    "    first_label, last_label = fuzzy_range_label['label'][0], fuzzy_range_label['label'][-1]\n",
    "    label_df[col + \"_\" + first_label][(label_df[col] < (fuzzy_range_label['normal'])[0])] = 1\n",
    "    label_df[col + \"_\" + last_label][(label_df[col] >= (fuzzy_range_label['normal'])[-1])] = 1\n"
   ]
  },
  {
   "cell_type": "markdown",
   "metadata": {},
   "source": [
    "## Handle AQI levels\n",
    "\n",
    "I'll divide AQI columns into 6 categories."
   ]
  },
  {
   "cell_type": "code",
   "execution_count": null,
   "metadata": {},
   "outputs": [],
   "source": [
    "aqi_fuzzy_range_label = {\n",
    "    'label': ['lv1','lv2','lv3','lv4','lv5'],\n",
    "    #['GOOD', 'MODERATE', 'UNHEALTHY_FOR_SENSITIVE_GROUP', 'UNHEALTHY', 'VERY_UNHEALTHY', 'HAZARDOUS'],\n",
    "    'normal': [5, 12, 50, 100, 200]\n",
    "    #[25, 75, 125, 175, 250, 350]\n",
    "    #[0, 50, 100, 150, 200, 300, 500]\n",
    "}"
   ]
  },
  {
   "cell_type": "code",
   "execution_count": null,
   "metadata": {},
   "outputs": [],
   "source": [
    "for col in tqdm(aqi_columns):\n",
    "    for l in aqi_fuzzy_range_label['label']:\n",
    "        label_col = col + '_' + l\n",
    "        label_df[label_col] = 0\n",
    "    \n",
    "    for i in tqdm(range(1, len(aqi_fuzzy_range_label['label']))):\n",
    "        l2, l1 = aqi_fuzzy_range_label['label'][i], aqi_fuzzy_range_label['label'][i-1]\n",
    "        vmax, vmin  = aqi_fuzzy_range_label['normal'][i], aqi_fuzzy_range_label['normal'][i-1]\n",
    "        #condition =  \n",
    "        #print(condition.sum())\n",
    "        lc1, lc2 = col + '_' + l1, col + '_' + l2\n",
    "        label_df[lc2][ (label_df[col] <= vmax) & (label_df[col] >= vmin) ] = label_df[col][(label_df[col] <= vmax) & (label_df[col] >= vmin)].apply(fuzzy_convert, args=(vmin, vmax))\n",
    "        label_df[lc1][ (label_df[col] <= vmax) & (label_df[col] >= vmin) ] = 1 - label_df[lc2][(label_df[col] <= vmax) & (label_df[col] >= vmin)]\n",
    "    \n",
    "    first_label, last_label = aqi_fuzzy_range_label['label'][0], aqi_fuzzy_range_label['label'][-1]\n",
    "    label_df[col + \"_\" + first_label][(label_df[col] < (aqi_fuzzy_range_label['normal'])[0])] = 1\n",
    "    label_df[col + \"_\" + last_label][(label_df[col] >= (aqi_fuzzy_range_label['normal'])[-1])] = 1"
   ]
  },
  {
   "cell_type": "code",
   "execution_count": null,
   "metadata": {},
   "outputs": [],
   "source": [
    "label_df['AQI_O3_lv2'].value_counts()"
   ]
  },
  {
   "cell_type": "code",
   "execution_count": null,
   "metadata": {},
   "outputs": [],
   "source": [
    "label_df[ [ ('AQI_O3_' + col) for col in aqi_fuzzy_range_label['label']] ].describe()"
   ]
  },
  {
   "cell_type": "code",
   "execution_count": null,
   "metadata": {},
   "outputs": [],
   "source": [
    "label_df['AQI_O3_lv4'].value_counts()"
   ]
  },
  {
   "cell_type": "code",
   "execution_count": null,
   "metadata": {},
   "outputs": [],
   "source": [
    "label_df.drop(pollutants, axis=1, inplace=True)\n",
    "\n",
    "for p in pollutants:\n",
    "    label_df.drop( [ col for col in label_df.columns if col.startswith(p) ] , axis=1, inplace=True)"
   ]
  },
  {
   "cell_type": "markdown",
   "metadata": {},
   "source": [
    "## Get rid of labels from rows without wind+rain"
   ]
  },
  {
   "cell_type": "code",
   "execution_count": null,
   "metadata": {},
   "outputs": [],
   "source": [
    "windrain_columns = ['WindGust', 'WindSpeed', 'Rainfall', 'WindCos', 'WindSin']\n",
    "for col in windrain_columns:\n",
    "    for label in fuzzy_range_label['label']:\n",
    "        lc = col + '_' + label\n",
    "        label_df[lc][ (label_df['WindCos'] == 0) & (label_df['WindSin'] == 0) ] = 0"
   ]
  },
  {
   "cell_type": "code",
   "execution_count": null,
   "metadata": {},
   "outputs": [],
   "source": [
    "label_df.fillna(0, inplace=True)"
   ]
  },
  {
   "cell_type": "markdown",
   "metadata": {},
   "source": [
    "# Last cleaning"
   ]
  },
  {
   "cell_type": "code",
   "execution_count": null,
   "metadata": {},
   "outputs": [],
   "source": [
    "dropped_columns = []\n",
    "is_ok = False\n",
    "for col in label_df.columns:\n",
    "    if (col in kept_columns): continue\n",
    "    is_ok = False\n",
    "    for l in (fuzzy_range_label['label'] + aqi_fuzzy_range_label['label']):\n",
    "        if l in col:\n",
    "            is_ok = True\n",
    "            break\n",
    "    if not is_ok:\n",
    "        dropped_columns.append(col)\n",
    "\n",
    "label_df.drop( dropped_columns, axis=1, inplace=True )\n",
    "label_df.info()"
   ]
  },
  {
   "cell_type": "code",
   "execution_count": null,
   "metadata": {},
   "outputs": [],
   "source": [
    "for col in label_df.columns:\n",
    "    if (col in kept_columns): continue\n",
    "    label_df[col] [ label_df[col] < 0.5 ] = 0               # truncate all prob below 0.5 into 0, basically not using it anymore. This is also to made all transactions have only prob independent items."
   ]
  },
  {
   "cell_type": "markdown",
   "metadata": {},
   "source": [
    "## Handle special columns"
   ]
  },
  {
   "cell_type": "code",
   "execution_count": null,
   "metadata": {},
   "outputs": [],
   "source": [
    "label_df['WeekDay'] = label_df['Datetime'].dt.day_name()\n",
    "label_df['WeekDay'].value_counts()"
   ]
  },
  {
   "cell_type": "code",
   "execution_count": null,
   "metadata": {},
   "outputs": [],
   "source": [
    "label_df['HourTriple'] = label_df['Datetime'].dt.round(freq='3H').dt.hour.astype(str)\n",
    "label_df['HourTriple'].value_counts()"
   ]
  },
  {
   "cell_type": "code",
   "execution_count": null,
   "metadata": {},
   "outputs": [],
   "source": [
    "label_df.drop(['SensorCode'], axis=1, inplace=True)"
   ]
  },
  {
   "cell_type": "code",
   "execution_count": null,
   "metadata": {},
   "outputs": [],
   "source": [
    "label_df = pd.get_dummies(label_df)\n",
    "label_df.info()"
   ]
  },
  {
   "cell_type": "markdown",
   "metadata": {},
   "source": [
    "## Clean for sparser data?"
   ]
  },
  {
   "cell_type": "code",
   "execution_count": null,
   "metadata": {},
   "outputs": [],
   "source": []
  },
  {
   "cell_type": "markdown",
   "metadata": {},
   "source": [
    "# Save the resutls"
   ]
  },
  {
   "cell_type": "code",
   "execution_count": null,
   "metadata": {},
   "outputs": [],
   "source": [
    "import datetime\n",
    "output_folder = '../data/UTDATABASE/utd_' + datetime.datetime.now().strftime(format=\"%Y%m%d_%H%M\")\n",
    "os.makedirs(output_folder, exist_ok=True)\n",
    "out_dbpath= os.path.join(output_folder, 'label.csv')\n",
    "label_df.to_csv(out_dbpath, index=False)\n",
    "print(out_dbpath)"
   ]
  },
  {
   "cell_type": "code",
   "execution_count": null,
   "metadata": {},
   "outputs": [],
   "source": [
    "import json\n",
    "with open(os.path.join(output_folder, 'setting.json'), 'w') as f:\n",
    "    f.write( json.dumps({ 'input_path': input_path, \n",
    "                        'aqi_fuzzymap': aqi_fuzzy_range_label, \n",
    "                        'other_fuzzymap': fuzzy_range_label }, \n",
    "    indent=4 ))\n",
    "\n",
    "# with open(os.path.join(output_folder, 'aqi_fuzzy_range_label.json'), 'w') as f:\n",
    "#     f.write( json.dumps( aqi_fuzzy_range_label, indent=4 ))\n",
    "# with open(os.path.join(output_folder, 'fuzzy_range_label.json'), 'w') as f:\n",
    "#     f.write( json.dumps( fuzzy_range_label, indent=4 ))"
   ]
  },
  {
   "cell_type": "markdown",
   "metadata": {},
   "source": [
    "Completed. Move on the last step, mine these data."
   ]
  }
 ],
 "metadata": {
  "kernelspec": {
   "display_name": "Python 3.10.6 ('study')",
   "language": "python",
   "name": "python3"
  },
  "language_info": {
   "codemirror_mode": {
    "name": "ipython",
    "version": 3
   },
   "file_extension": ".py",
   "mimetype": "text/x-python",
   "name": "python",
   "nbconvert_exporter": "python",
   "pygments_lexer": "ipython3",
   "version": "3.10.6"
  },
  "orig_nbformat": 4,
  "vscode": {
   "interpreter": {
    "hash": "eb3de00e07e345391905e8474aaa8d141fe6b310547503c17a51563c220f85dd"
   }
  }
 },
 "nbformat": 4,
 "nbformat_minor": 2
}
