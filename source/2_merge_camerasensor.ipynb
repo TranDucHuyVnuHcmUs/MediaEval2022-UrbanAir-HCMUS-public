{
 "cells": [
  {
   "cell_type": "markdown",
   "metadata": {},
   "source": [
    "# Init\n",
    "Import all library here!"
   ]
  },
  {
   "cell_type": "code",
   "execution_count": null,
   "metadata": {},
   "outputs": [],
   "source": [
    "from pytorch_tabnet.tab_model import TabNetClassifier, TabNetRegressor\n",
    "import numpy as np\n",
    "from tqdm import tqdm\n",
    "import pandas as pd\n",
    "import glob\n",
    "import os\n",
    "import matplotlib.pyplot as plt\n",
    "import datetime"
   ]
  },
  {
   "cell_type": "markdown",
   "metadata": {},
   "source": [
    "# Import cleaned data"
   ]
  },
  {
   "cell_type": "code",
   "execution_count": null,
   "metadata": {},
   "outputs": [],
   "source": [
    "camera_df = pd.read_csv(\"../data/CAMERA/cameras_20221221_202514.csv\")\n",
    "sensor_df = pd.read_csv(\"../data/SENSOR/sensors_20221221_202410.csv\")"
   ]
  },
  {
   "cell_type": "code",
   "execution_count": null,
   "metadata": {},
   "outputs": [],
   "source": [
    "sensor_df['Datetime'] = pd.to_datetime(sensor_df['Datetime'], errors='coerce', format=\"%Y-%m-%d %H:%M:%S\")\n",
    "camera_df['Datetime'] = pd.to_datetime(camera_df['Datetime'], errors='coerce', format=\"%Y-%m-%d %H:%M:%S\")"
   ]
  },
  {
   "cell_type": "code",
   "execution_count": null,
   "metadata": {},
   "outputs": [],
   "source": [
    "sensor_df.info()"
   ]
  },
  {
   "cell_type": "markdown",
   "metadata": {},
   "source": [
    "# Group the rows based on CameraID and SensorID"
   ]
  },
  {
   "cell_type": "code",
   "execution_count": null,
   "metadata": {},
   "outputs": [],
   "source": [
    "sensor_gps_groupby_df = sensor_df.groupby(by='SensorCode').agg( {'Latitude': 'mean', 'Longtitude': 'mean' } )\n",
    "sensor_gps_groupby_df['SensorCode'] = sensor_gps_groupby_df.index\n",
    "sensor_gps_groupby_df.rename( columns={ 'Latitude': 'LatitudeSensor', 'Longtitude': 'LongtitudeSensor' }, inplace=True )\n",
    "sensor_gps_groupby_df"
   ]
  },
  {
   "cell_type": "code",
   "execution_count": null,
   "metadata": {},
   "outputs": [],
   "source": [
    "camera_gps_groupby_df = camera_df.groupby(by='CameraCode').agg( {'Latitude': 'mean', 'Longtitude': 'mean' } )\n",
    "camera_gps_groupby_df['CameraCode'] = camera_gps_groupby_df.index\n",
    "camera_gps_groupby_df.rename( columns={ 'Latitude': 'LatitudeCam', 'Longtitude': 'LongtitudeCam' }, inplace=True )\n",
    "camera_gps_groupby_df"
   ]
  },
  {
   "cell_type": "code",
   "execution_count": null,
   "metadata": {},
   "outputs": [],
   "source": [
    "sencam_gps_df = pd.merge(  sensor_gps_groupby_df.assign(joinkey=1),\n",
    "                                camera_gps_groupby_df.assign(joinkey=1),  \n",
    "                                on='joinkey').drop('joinkey', axis=1)\n",
    "sencam_gps_df"
   ]
  },
  {
   "cell_type": "code",
   "execution_count": null,
   "metadata": {},
   "outputs": [],
   "source": [
    "from geopy import distance"
   ]
  },
  {
   "cell_type": "code",
   "execution_count": null,
   "metadata": {},
   "outputs": [],
   "source": [
    "def calculate_geo_distance(x):\n",
    "    latc, longc, lats, longs = x['LatitudeCam'], x['LongtitudeCam'], x['LatitudeSensor'], x['LongtitudeSensor']\n",
    "    return distance.distance( \n",
    "        ( latc, longc ), \n",
    "        ( lats, longs ) ).km"
   ]
  },
  {
   "cell_type": "code",
   "execution_count": null,
   "metadata": {},
   "outputs": [],
   "source": [
    "sencam_gps_df['Distance'] = sencam_gps_df.apply( lambda x: calculate_geo_distance(x), axis=1)"
   ]
  },
  {
   "cell_type": "code",
   "execution_count": null,
   "metadata": {},
   "outputs": [],
   "source": [
    "sencam_gps_df.sort_values(by=['SensorCode','Distance'], ignore_index=True, inplace=True)"
   ]
  },
  {
   "cell_type": "code",
   "execution_count": null,
   "metadata": {},
   "outputs": [],
   "source": [
    "sencam_gps_df.drop(['LatitudeSensor', 'LongtitudeSensor','LatitudeCam', 'LongtitudeCam'], axis=1, inplace=True)"
   ]
  },
  {
   "cell_type": "code",
   "execution_count": null,
   "metadata": {},
   "outputs": [],
   "source": [
    "sencam_gps_df"
   ]
  },
  {
   "cell_type": "markdown",
   "metadata": {},
   "source": [
    "# Find matches"
   ]
  },
  {
   "cell_type": "code",
   "execution_count": null,
   "metadata": {},
   "outputs": [],
   "source": [
    "matched_sencam_df = sencam_gps_df.copy(deep=True)\n",
    "matched_sencam_df = matched_sencam_df.drop_duplicates(subset=['SensorCode'], keep='first').reset_index(drop=True)\n",
    "matched_sencam_df"
   ]
  },
  {
   "cell_type": "code",
   "execution_count": null,
   "metadata": {},
   "outputs": [],
   "source": [
    "for camera in matched_sencam_df.CameraCode.unique():\n",
    "    cam_used_rows = matched_sencam_df[ matched_sencam_df.CameraCode == camera ]\n",
    "    print(cam_used_rows, '\\n Number of sensor linked: ', len(cam_used_rows), '\\n')"
   ]
  },
  {
   "cell_type": "markdown",
   "metadata": {},
   "source": [
    "### Find the n-th matches\n",
    "\n",
    "The variable 'nearest_camera_count' are used to decide how many cameras are merged for each sensor. As of this version, we use all of them."
   ]
  },
  {
   "cell_type": "code",
   "execution_count": null,
   "metadata": {},
   "outputs": [],
   "source": [
    "from functools import reduce"
   ]
  },
  {
   "cell_type": "code",
   "execution_count": null,
   "metadata": {},
   "outputs": [],
   "source": [
    "nearest_camera_count = camera_gps_groupby_df.shape[0]                   # total 15 camera available?\n",
    "#nearest_camera_count = 5\n",
    "matches_dfs = [ matched_sencam_df ]\n",
    "for i in range(2, nearest_camera_count+1):\n",
    "    # inspired by: https://stackoverflow.com/questions/44706485/how-to-remove-rows-in-a-pandas-dataframe-if-the-same-row-exists-in-another-dataf\n",
    "    ith_df = pd.merge(sencam_gps_df, pd.concat(matches_dfs), indicator=True, how='left')        # create column '_merge'\n",
    "    ith_df = ith_df[ ith_df['_merge'] == \"left_only\" ].drop('_merge', axis=1)       # only the rows from the left are kept, which means discard rows came from the right, the rows of 1st -> (i-1)th distances.\n",
    "    ith_df.drop_duplicates(subset=['SensorCode'], keep='first', inplace=True)\n",
    "    #ith_df.reset_index(drop=True, inplace=True)\n",
    "    matches_dfs.append( ith_df )\n",
    "    print('\\n', str(i), 'th closest \\n', ith_df)"
   ]
  },
  {
   "cell_type": "code",
   "execution_count": null,
   "metadata": {},
   "outputs": [],
   "source": [
    "k_matches_sencam_df = pd.concat(matches_dfs).reset_index(drop=True)\n",
    "k_matches_sencam_df\n",
    "\n",
    "# save for reporting\n",
    "os.makedirs(\"../data/MERGED\", exist_ok = True)\n",
    "k_matches_sencam_df.to_csv('../data/MERGED/sensor_camera_matches.csv', index = False)"
   ]
  },
  {
   "cell_type": "markdown",
   "metadata": {},
   "source": [
    "# Merge the full data\n",
    "Note: Following the requirement of this task, I only merge the closest camera into each sensor, not k-nearest cameras. "
   ]
  },
  {
   "cell_type": "code",
   "execution_count": null,
   "metadata": {},
   "outputs": [],
   "source": [
    "import datetime\n",
    "min_merge_date = max( datetime.datetime(2022, 8, 13), max( sensor_df.Datetime.sort_values()[0], camera_df.Datetime.sort_values()[0] ) ) \n",
    "print(min_merge_date)"
   ]
  },
  {
   "cell_type": "code",
   "execution_count": null,
   "metadata": {},
   "outputs": [],
   "source": [
    "#matched_sencam_df.drop(['Distance'], inplace=True, axis=1)\n",
    "k_matches_sencam_df.drop(['Distance'], inplace=True, axis=1)"
   ]
  },
  {
   "cell_type": "code",
   "execution_count": null,
   "metadata": {},
   "outputs": [],
   "source": [
    "# firstly merge the sensor name into the camera?\n",
    "#edited_camera_df = pd.merge(camera_df, k_matches_sencam_df, how='inner', on='CameraCode')\n",
    "edited_camera_df = camera_df[ camera_df['Datetime'] >= min_merge_date ].copy(True)\n",
    "edited_camera_df['DatetimeCam'] = edited_camera_df['Datetime']\n",
    "edited_camera_df.sort_values(by='Datetime', inplace=True, ignore_index=True)\n",
    "edited_camera_df.rename( columns= {\"Latitude\": \"LatitudeCam\", \"Longtitude\": \"LongtitudeCam\"} , inplace=True)\n",
    "edited_camera_df"
   ]
  },
  {
   "cell_type": "code",
   "execution_count": null,
   "metadata": {},
   "outputs": [],
   "source": [
    "edited_sensor_df = sensor_df[ sensor_df['Datetime'] >= min_merge_date ].copy(True)\n",
    "edited_sensor_df = pd.merge(edited_sensor_df, k_matches_sencam_df, how='inner', on='SensorCode')\n",
    "edited_sensor_df.sort_values(by='Datetime', ignore_index=True, inplace=True)\n",
    "edited_sensor_df['DatetimeSen'] = edited_sensor_df['Datetime']\n",
    "edited_sensor_df.rename( columns={\"Latitude\": \"LatitudeSensor\", \"Longtitude\": \"LongtitudeSensor\"} , inplace=True)\n",
    "# edited_sensor_df.head()"
   ]
  },
  {
   "cell_type": "markdown",
   "metadata": {},
   "source": [
    "### Final touch"
   ]
  },
  {
   "cell_type": "code",
   "execution_count": null,
   "metadata": {},
   "outputs": [],
   "source": [
    "min_driving_speed = 32              #30km/h -> m/s\n",
    "tolerance_deltatime = datetime.timedelta(0, 5*60, 0)           # now only use at most 5 min delay. Don't know if this is good enough, but let's try it.\n",
    "#tolerance_deltatime = datetime.timedelta(0, (ext_matched_sencam_df.Distance_1st.max() / min_driving_speed)*3600, 0)\n",
    "print('Time estimated for vehicles to reach from the sensor to camera position:' , tolerance_deltatime)"
   ]
  },
  {
   "cell_type": "code",
   "execution_count": null,
   "metadata": {},
   "outputs": [],
   "source": [
    "#camera based\n",
    "sensor_camara_df = pd.merge_asof(edited_camera_df, edited_sensor_df,\n",
    "                                on='Datetime', by='CameraCode', \n",
    "                                direction='nearest', tolerance=tolerance_deltatime)"
   ]
  },
  {
   "cell_type": "code",
   "execution_count": null,
   "metadata": {},
   "outputs": [],
   "source": [
    "# sensor_camara_df = pd.merge_asof(edited_sensor_df, edited_camera_df, on='Datetime', by='SensorCode', direction='nearest', tolerance=tolerance_deltatime)\n",
    "# sensor_camara_df"
   ]
  },
  {
   "cell_type": "code",
   "execution_count": null,
   "metadata": {},
   "outputs": [],
   "source": [
    "merge_result_df = sensor_camara_df[sensor_camara_df.CameraCode.notna()]\n",
    "merge_result_df['TimeDistance'] = abs(merge_result_df['Datetime'] - merge_result_df['DatetimeSen'])\n",
    "print(merge_result_df['TimeDistance'].max(), ' ', merge_result_df['TimeDistance'].min())"
   ]
  },
  {
   "cell_type": "code",
   "execution_count": null,
   "metadata": {},
   "outputs": [],
   "source": [
    "sensor_camara_df.drop( sensor_camara_df.CameraCode[sensor_camara_df.CameraCode.isna()].index, inplace=True)\n",
    "sensor_camara_df.drop( sensor_camara_df.SensorCode[sensor_camara_df.SensorCode.isna()].index, inplace=True)"
   ]
  },
  {
   "cell_type": "code",
   "execution_count": null,
   "metadata": {},
   "outputs": [],
   "source": [
    "sensor_camara_df.describe()"
   ]
  },
  {
   "cell_type": "markdown",
   "metadata": {},
   "source": [
    "# Export clean data to CSV\n",
    "To send to the team."
   ]
  },
  {
   "cell_type": "code",
   "execution_count": null,
   "metadata": {},
   "outputs": [],
   "source": [
    "output_path = r'../data/MERGED/sensor_camera_' + datetime.datetime.now().strftime(format=\"%Y%m%d_%H%M\")\n",
    "os.makedirs(output_path, exist_ok=True)\n",
    "\n",
    "import json\n",
    "sensor_camara_df.to_csv(os.path.join(output_path, \"mergedtable.csv\"), index=False)"
   ]
  },
  {
   "cell_type": "code",
   "execution_count": null,
   "metadata": {},
   "outputs": [],
   "source": [
    "with open(os.path.join(output_path, \"setting.json\"), 'w') as f:\n",
    "    f.write( json.dumps( { 'nearest_camera_count': nearest_camera_count, 'tolerance_seconds': tolerance_deltatime.total_seconds() }, indent=4 ) )"
   ]
  }
 ],
 "metadata": {
  "kernelspec": {
   "display_name": "Python 3.10.6 ('study')",
   "language": "python",
   "name": "python3"
  },
  "language_info": {
   "codemirror_mode": {
    "name": "ipython",
    "version": 3
   },
   "file_extension": ".py",
   "mimetype": "text/x-python",
   "name": "python",
   "nbconvert_exporter": "python",
   "pygments_lexer": "ipython3",
   "version": "3.10.6"
  },
  "orig_nbformat": 4,
  "vscode": {
   "interpreter": {
    "hash": "eb3de00e07e345391905e8474aaa8d141fe6b310547503c17a51563c220f85dd"
   }
  }
 },
 "nbformat": 4,
 "nbformat_minor": 2
}
