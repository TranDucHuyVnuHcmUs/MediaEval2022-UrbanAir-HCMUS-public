{
 "cells": [
  {
   "cell_type": "markdown",
   "metadata": {},
   "source": [
    "# Convert air pollutant concentrations into AQI score"
   ]
  },
  {
   "cell_type": "code",
   "execution_count": null,
   "metadata": {},
   "outputs": [],
   "source": [
    "from pytorch_tabnet.tab_model import TabNetClassifier, TabNetRegressor\n",
    "import numpy as np\n",
    "from tqdm import tqdm\n",
    "import pandas as pd\n",
    "import glob\n",
    "import os\n",
    "import matplotlib.pyplot as plt"
   ]
  },
  {
   "cell_type": "markdown",
   "metadata": {},
   "source": [
    "## Define the table"
   ]
  },
  {
   "cell_type": "code",
   "execution_count": null,
   "metadata": {},
   "outputs": [],
   "source": [
    "pollutants = ['PM2.5','PM10','CO','NO2','SO2','O3']"
   ]
  },
  {
   "cell_type": "code",
   "execution_count": null,
   "metadata": {},
   "outputs": [],
   "source": [
    "AQI_table = {   'AQI': [0, 51, 101, 151, 201, 301, 401, 501],\n",
    "                'O3': [-1, -1, 0.125, 0.165, 0.205, 0.405, 0.505, 0.605],\n",
    "                'PM2.5': [0, 12.1, 35.5, 55.5, 150.5, 250.5, 350.5, 500.5],\n",
    "                'PM10': [0, 55, 155, 255, 355, 425, 505, 605],\n",
    "                'CO': [0, 4.5, 9.5, 12.5, 15.5, 30.5, 40.5, 50.5],\n",
    "                'SO2': [0, 36, 76, 186, 305, 605, 805, 1005],\n",
    "                'NO2': [0, 54, 101, 361, 650, 1250, 1650, 2050]\n",
    "            }\n",
    "AQI_table_interval = {\n",
    "    'AQI': 1,\n",
    "    'O3': 0.001,\n",
    "    'PM2.5': 0.1,\n",
    "    'PM10': 1,\n",
    "    'CO': 0.1,\n",
    "    'SO2': 1,\n",
    "    'NO2': 1\n",
    "}"
   ]
  },
  {
   "cell_type": "markdown",
   "metadata": {},
   "source": [
    "## Read and preprocess"
   ]
  },
  {
   "cell_type": "code",
   "execution_count": null,
   "metadata": {},
   "outputs": [],
   "source": [
    "# change the path into the file that you want\n",
    "data_csvpath = r\"../data/MERGED/sensor_camera_20221222_0222/mergedtable.csv\"\n",
    "sensor_df = pd.read_csv(data_csvpath)"
   ]
  },
  {
   "cell_type": "code",
   "execution_count": null,
   "metadata": {},
   "outputs": [],
   "source": [
    "sensor_df.describe()"
   ]
  },
  {
   "cell_type": "code",
   "execution_count": null,
   "metadata": {},
   "outputs": [],
   "source": [
    "sensor_df.drop(['PM1.0'], axis=1, inplace=True)"
   ]
  },
  {
   "cell_type": "code",
   "execution_count": null,
   "metadata": {},
   "outputs": [],
   "source": [
    "sensor_df.Direction = sensor_df.Direction.astype(pd.StringDtype())"
   ]
  },
  {
   "cell_type": "code",
   "execution_count": null,
   "metadata": {},
   "outputs": [],
   "source": [
    "sensor_df['Datetime'] = pd.to_datetime(sensor_df['Datetime'])"
   ]
  },
  {
   "cell_type": "code",
   "execution_count": null,
   "metadata": {},
   "outputs": [],
   "source": [
    "sensor_df_copy = sensor_df.copy(deep=True)"
   ]
  },
  {
   "cell_type": "code",
   "execution_count": null,
   "metadata": {},
   "outputs": [],
   "source": [
    "sensor_df.Datetime = sensor_df.Datetime.dt.round('H')"
   ]
  },
  {
   "cell_type": "code",
   "execution_count": null,
   "metadata": {},
   "outputs": [],
   "source": [
    "sensor_df.Datetime"
   ]
  },
  {
   "cell_type": "markdown",
   "metadata": {},
   "source": [
    "## Group by sensor and hour"
   ]
  },
  {
   "cell_type": "code",
   "execution_count": null,
   "metadata": {},
   "outputs": [],
   "source": [
    "sensor_groupby = sensor_df.groupby(by=[ sensor_df.SensorCode, sensor_df.Datetime ])"
   ]
  },
  {
   "cell_type": "code",
   "execution_count": null,
   "metadata": {},
   "outputs": [],
   "source": [
    "sensor_hour_df = sensor_groupby.mean()\n",
    "sensor_hour_df['dt'] = sensor_hour_df.index.get_level_values(1).values\n",
    "sensor_hour_df.head()\n",
    "sensor_hour_df.drop(['WeekDay'], axis=1, inplace=True)\n",
    "sensor_hour_df.describe()"
   ]
  },
  {
   "cell_type": "code",
   "execution_count": null,
   "metadata": {},
   "outputs": [],
   "source": [
    "# ppm -> ppb\n",
    "# sensor_hour_df['SO2'] *= 1000   \n",
    "# sensor_hour_df['NO2'] *= 1000"
   ]
  },
  {
   "cell_type": "code",
   "execution_count": null,
   "metadata": {},
   "outputs": [],
   "source": [
    "sensor_hour_df['O3'] = sensor_hour_df['O3'].round(3)\n",
    "sensor_hour_df['PM2.5'] = sensor_hour_df['PM2.5'].round(1)\n",
    "sensor_hour_df['PM10'] = sensor_hour_df['PM10'].round()\n",
    "sensor_hour_df['CO'] = sensor_hour_df['CO'].round(1)\n",
    "sensor_hour_df['SO2'] = sensor_hour_df['SO2'].round(0)\n",
    "sensor_hour_df['NO2'] = sensor_hour_df['NO2'].round(0)"
   ]
  },
  {
   "cell_type": "code",
   "execution_count": null,
   "metadata": {},
   "outputs": [],
   "source": [
    "sensor_hour_df[ ['O3', 'PM2.5', 'PM10', 'CO', 'NO2', 'SO2'] ].describe()"
   ]
  },
  {
   "cell_type": "markdown",
   "metadata": {},
   "source": [
    "https://www.airnow.gov/sites/default/files/2020-05/aqi-technical-assistance-document-sept2018.pdf\n",
    "\n",
    "Following the 2015 format of Ozone measurement."
   ]
  },
  {
   "cell_type": "markdown",
   "metadata": {},
   "source": [
    "## Calculating moving averages for each pollutant\n",
    "\n",
    "Following the organizers' note about AQI conversion, we shall use only 1-hour averages, and still use the same table for each pollutant as if they are calculated in specific timescale. "
   ]
  },
  {
   "cell_type": "markdown",
   "metadata": {},
   "source": [
    "Calculate the rest: \n",
    "- O3 (ppm) 1-hour \n",
    "- PM2.5 (μg/m3) 1-hour  (orginially 24h)\n",
    "- PM10 (μg/m3) 1-hour  (originally 24h)\n",
    "- CO (ppm) 1-hour       (originally 8h)\n",
    "- SO2 (ppb) 1-hour \n",
    "- NO2 (ppb) 1-hour."
   ]
  },
  {
   "cell_type": "code",
   "execution_count": null,
   "metadata": {},
   "outputs": [],
   "source": [
    "sensor_hour_df.dropna(inplace=True)\n",
    "sensor_hour_df.shape"
   ]
  },
  {
   "cell_type": "code",
   "execution_count": null,
   "metadata": {},
   "outputs": [],
   "source": [
    "def convert_to_AQI(series, bps, delta_bps, aqi):\n",
    "    output = series.copy(deep=True)\n",
    "    ok = False\n",
    "\n",
    "    # search for minimum value of concentration\n",
    "    min_idx = 99999\n",
    "    max_idx = -1\n",
    "    for i in range(len(bps)):\n",
    "        if (bps[i] >= 0):\n",
    "            min_idx = i\n",
    "            break\n",
    "    for i in range(len(bps)):\n",
    "        if (bps[-i - 1] >= 0):\n",
    "            max_idx = len(bps) - i - 1\n",
    "            break\n",
    "    print(min_idx, max_idx)\n",
    "    \n",
    "    for i in tqdm(range(series.shape[0])):\n",
    "\n",
    "        Cp = series.iloc[i]\n",
    "        if (Cp < bps[min_idx]):\n",
    "            output.iloc[i] = 0\n",
    "            continue\n",
    "        elif (Cp >= bps[max_idx]):\n",
    "            output.iloc[i] = aqi[max_idx]\n",
    "            #print(Cp, output.iloc[i])\n",
    "            continue\n",
    "\n",
    "        for j in range(min_idx, len(bps) - 1):\n",
    "            if (Cp < bps[j+1]):   \n",
    "                (BPh, BPl, Ih, Il) = bps[j + 1] - delta_bps, bps[j], aqi[j+1]-1, aqi[j] \n",
    "                output.iloc[i] = (Ih - Il)*(Cp - BPl) / (BPh - BPl) + Il\n",
    "                if (output.iloc[i] < 0) or (output.iloc[i] > 1000):\n",
    "                    print((BPh, BPl, Ih, Il), Cp)\n",
    "            #print(output.iloc[i])\n",
    "                break\n",
    "\n",
    "    return output"
   ]
  },
  {
   "cell_type": "code",
   "execution_count": null,
   "metadata": {},
   "outputs": [],
   "source": [
    "for key in AQI_table:\n",
    "    if key == 'AQI': continue\n",
    "    print(key)\n",
    "    sensor_hour_df['AQI_' + key] = convert_to_AQI(sensor_hour_df[key], AQI_table[key], AQI_table_interval[key], AQI_table['AQI'])"
   ]
  },
  {
   "cell_type": "code",
   "execution_count": null,
   "metadata": {},
   "outputs": [],
   "source": [
    "aqi_columns = ['AQI_O3','AQI_NO2', 'AQI_SO2','AQI_CO', 'AQI_PM2.5', 'AQI_PM10']"
   ]
  },
  {
   "cell_type": "code",
   "execution_count": null,
   "metadata": {},
   "outputs": [],
   "source": [
    "sensor_hour_df[ aqi_columns ].describe()"
   ]
  },
  {
   "cell_type": "code",
   "execution_count": null,
   "metadata": {},
   "outputs": [],
   "source": [
    "import datetime\n",
    "import json\n",
    "\n",
    "output_path = '../data/AQI/' + datetime.datetime.now().strftime(format=\"%Y%m%d_%H%M\")\n",
    "os.makedirs(output_path, exist_ok=True)\n",
    "\n",
    "sensor_hour_df.to_csv(os.path.join(output_path, 'AQI.csv'))\n",
    "with open(os.path.join(output_path, 'setting.json'), 'w') as f:\n",
    "    f.write( json.dumps( {'input_path': data_csvpath } )  )"
   ]
  }
 ],
 "metadata": {
  "kernelspec": {
   "display_name": "Python 3.10.6 ('study')",
   "language": "python",
   "name": "python3"
  },
  "language_info": {
   "codemirror_mode": {
    "name": "ipython",
    "version": 3
   },
   "file_extension": ".py",
   "mimetype": "text/x-python",
   "name": "python",
   "nbconvert_exporter": "python",
   "pygments_lexer": "ipython3",
   "version": "3.10.6"
  },
  "orig_nbformat": 4,
  "vscode": {
   "interpreter": {
    "hash": "eb3de00e07e345391905e8474aaa8d141fe6b310547503c17a51563c220f85dd"
   }
  }
 },
 "nbformat": 4,
 "nbformat_minor": 2
}
